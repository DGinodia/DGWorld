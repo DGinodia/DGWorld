{
 "cells": [
  {
   "cell_type": "code",
   "execution_count": 2,
   "metadata": {},
   "outputs": [
    {
     "name": "stdout",
     "output_type": "stream",
     "text": [
      "Hello World!\n",
      "<module 'sys' (built-in)>\n"
     ]
    }
   ],
   "source": [
    "#Print \"Hello World\" in Python\n",
    "\n",
    "print(\"Hello World!\")  # Ctl+Enter to execute\n",
    "\n"
   ]
  },
  {
   "cell_type": "code",
   "execution_count": 11,
   "metadata": {},
   "outputs": [
    {
     "name": "stdout",
     "output_type": "stream",
     "text": [
      "3.6.7 | packaged by conda-forge | (default, Nov  6 2019, 16:19:42) \n",
      "[GCC 7.3.0]\n",
      "<class 'str'>\n",
      "Python Version is 3.6.7\n"
     ]
    }
   ],
   "source": [
    "#Check the Python version\n",
    "import sys\n",
    "print(sys.version)\n",
    "PythonVersion = sys.version\n",
    "print(\"Python Version is \" + PythonVersion[0:5])"
   ]
  },
  {
   "cell_type": "code",
   "execution_count": 16,
   "metadata": {},
   "outputs": [
    {
     "data": {
      "text/plain": [
       "str"
      ]
     },
     "execution_count": 16,
     "metadata": {},
     "output_type": "execute_result"
    }
   ],
   "source": [
    "#Find type of the variable PythonVersion\n",
    "type(PythonVersion)"
   ]
  },
  {
   "cell_type": "code",
   "execution_count": 34,
   "metadata": {},
   "outputs": [
    {
     "name": "stdout",
     "output_type": "stream",
     "text": [
      "1\n",
      "1.0\n",
      "1.0\n",
      "3\n",
      "3.0\n",
      "<class 'float'>\n",
      "<class 'int'>\n"
     ]
    }
   ],
   "source": [
    "# Type: integer (int), float (float), strings(str)\n",
    "# print(type(1))\n",
    "# print(type(1.0))\n",
    "# print(type(\"1.0\"))\n",
    "\n",
    "#Type casting and function\n",
    "print(int(1.7)) #notice 1.7 gets truncated to 1 when type casting a float to an integer\n",
    "print(float(1)) #type casting int to float\n",
    "print(float(\"1\")) # type casting string (a number) to float\n",
    "# print(float(\"The\")) # type casting string (a string) to float returns an error\n",
    "print(str(3)) # type casting int to string returns an error\n",
    "print(str(3.0)) # type casting float to string returns an error\n",
    "\n",
    "print(type(6/2)) # this returns a float\n",
    "print(type(6//2)) # this return an integer"
   ]
  },
  {
   "cell_type": "code",
   "execution_count": 31,
   "metadata": {},
   "outputs": [
    {
     "name": "stdout",
     "output_type": "stream",
     "text": [
      "<class 'bool'>\n",
      "<class 'bool'>\n"
     ]
    }
   ],
   "source": [
    "#boolean True or False\n",
    "\n",
    "print(type(False))\n",
    "print(type(True))\n"
   ]
  }
 ],
 "metadata": {
  "kernelspec": {
   "display_name": "Python",
   "language": "python",
   "name": "conda-env-python-py"
  },
  "language_info": {
   "codemirror_mode": {
    "name": "ipython",
    "version": 3
   },
   "file_extension": ".py",
   "mimetype": "text/x-python",
   "name": "python",
   "nbconvert_exporter": "python",
   "pygments_lexer": "ipython3",
   "version": "3.6.7"
  }
 },
 "nbformat": 4,
 "nbformat_minor": 4
}
