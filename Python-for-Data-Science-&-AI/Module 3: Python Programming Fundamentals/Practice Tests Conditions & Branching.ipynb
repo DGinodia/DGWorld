{
 "cells": [
  {
   "cell_type": "code",
   "execution_count": 2,
   "metadata": {},
   "outputs": [
    {
     "name": "stdout",
     "output_type": "stream",
     "text": [
      "Hi\n",
      "Mike\n"
     ]
    }
   ],
   "source": [
    "# 1.What value of x will produce the output:\n",
    "# Hi\n",
    "# Mike\n",
    "# 1). x=\"7\"\n",
    "# 2). x=1 (correct)\n",
    "# 3). x=6  \n",
    "\n",
    "x= 1\n",
    "\n",
    "if(x!=1):\n",
    "\n",
    "  print('Hello')\n",
    "\n",
    "else:\n",
    "\n",
    "  print('Hi')\n",
    "\n",
    "print('Mike')\n",
    "\n"
   ]
  },
  {
   "cell_type": "code",
   "execution_count": 3,
   "metadata": {},
   "outputs": [
    {
     "name": "stdout",
     "output_type": "stream",
     "text": [
      "Go \n",
      "Mike\n"
     ]
    }
   ],
   "source": [
    "# 2. What is the output of the following code:\n",
    "# 1) Go Mike (correct)\n",
    "# 2) Mike\n",
    "# 3) Stop Mike\n",
    "\n",
    "x=\"Go\"\n",
    "\n",
    "if(x==\"Go\"):\n",
    "\n",
    "  print('Go ')\n",
    "\n",
    "else:\n",
    "\n",
    "  print('Stop')\n",
    "\n",
    "print('Mike')"
   ]
  },
  {
   "cell_type": "code",
   "execution_count": 4,
   "metadata": {},
   "outputs": [
    {
     "data": {
      "text/plain": [
       "False"
      ]
     },
     "execution_count": 4,
     "metadata": {},
     "output_type": "execute_result"
    }
   ],
   "source": [
    "#3 What is the result of the following lines of code:\n",
    "# 1) False (correct)\n",
    "# 2) True\n",
    "\n",
    "x=1\n",
    "x>5"
   ]
  }
 ],
 "metadata": {
  "kernelspec": {
   "display_name": "Python 3",
   "language": "python",
   "name": "python3"
  },
  "language_info": {
   "codemirror_mode": {
    "name": "ipython",
    "version": 3
   },
   "file_extension": ".py",
   "mimetype": "text/x-python",
   "name": "python",
   "nbconvert_exporter": "python",
   "pygments_lexer": "ipython3",
   "version": "3.7.6"
  }
 },
 "nbformat": 4,
 "nbformat_minor": 4
}
